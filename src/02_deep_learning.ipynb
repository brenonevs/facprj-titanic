{
 "cells": [
  {
   "cell_type": "code",
   "execution_count": 750,
   "metadata": {},
   "outputs": [],
   "source": [
    "import torch \n",
    "import torch.nn as nn\n",
    "import torch.optim as optim\n",
    "import pandas as pd\n",
    "import numpy as np\n",
    "import matplotlib.pyplot as plt\n",
    "import seaborn as sns\n",
    "from tabulate import tabulate\n",
    "from torch.utils.data import DataLoader, TensorDataset\n",
    "from sklearn.preprocessing import LabelEncoder, StandardScaler"
   ]
  },
  {
   "cell_type": "markdown",
   "metadata": {},
   "source": [
    "# Criando dicionário de args"
   ]
  },
  {
   "cell_type": "code",
   "execution_count": 751,
   "metadata": {},
   "outputs": [],
   "source": [
    "args = {\n",
    "    'epoch_num': 50,    \n",
    "    'lr': 1e-3,         \n",
    "    'weight_decay': 0.02, \n",
    "    'batch_size': 16,    \n",
    "}"
   ]
  },
  {
   "cell_type": "markdown",
   "metadata": {},
   "source": [
    "# Verificando se o dispositivo é compatível com CUDA\n"
   ]
  },
  {
   "cell_type": "code",
   "execution_count": 752,
   "metadata": {},
   "outputs": [
    {
     "name": "stdout",
     "output_type": "stream",
     "text": [
      "Dispositivo disponível: cuda\n"
     ]
    }
   ],
   "source": [
    "if torch.cuda.is_available():\n",
    "    args['device'] = torch.device('cuda')\n",
    "else:\n",
    "    args['device'] = torch.device('cpu')\n",
    "\n",
    "print(f'Dispositivo disponível: {args[\"device\"]}')\n"
   ]
  },
  {
   "cell_type": "markdown",
   "metadata": {},
   "source": [
    "# Carregar os dados de treino e teste"
   ]
  },
  {
   "cell_type": "code",
   "execution_count": 753,
   "metadata": {},
   "outputs": [],
   "source": [
    "train_data = pd.read_csv('../data/train.csv')\n",
    "test_data = pd.read_csv('../data/test.csv')"
   ]
  },
  {
   "cell_type": "markdown",
   "metadata": {},
   "source": [
    "# Fazendo o mesmo pré-processamento que foi feito no notebook 01_main.ipynb\n"
   ]
  },
  {
   "cell_type": "markdown",
   "metadata": {},
   "source": [
    "## Para o treinamento"
   ]
  },
  {
   "cell_type": "markdown",
   "metadata": {},
   "source": [
    "### Coluna Cabin\n"
   ]
  },
  {
   "cell_type": "code",
   "execution_count": 754,
   "metadata": {},
   "outputs": [
    {
     "name": "stdout",
     "output_type": "stream",
     "text": [
      "\n",
      "Opção 1: Coluna 'Cabin' foi removida.\n",
      "+----+---------------+------------+----------+-----------------------------------------------------+--------+-------+---------+---------+------------------+---------+------------+\n",
      "|    |   PassengerId |   Survived |   Pclass | Name                                                | Sex    |   Age |   SibSp |   Parch | Ticket           |    Fare | Embarked   |\n",
      "+====+===============+============+==========+=====================================================+========+=======+=========+=========+==================+=========+============+\n",
      "|  0 |             1 |          0 |        3 | Braund, Mr. Owen Harris                             | male   |    22 |       1 |       0 | A/5 21171        |  7.25   | S          |\n",
      "+----+---------------+------------+----------+-----------------------------------------------------+--------+-------+---------+---------+------------------+---------+------------+\n",
      "|  1 |             2 |          1 |        1 | Cumings, Mrs. John Bradley (Florence Briggs Thayer) | female |    38 |       1 |       0 | PC 17599         | 71.2833 | C          |\n",
      "+----+---------------+------------+----------+-----------------------------------------------------+--------+-------+---------+---------+------------------+---------+------------+\n",
      "|  2 |             3 |          1 |        3 | Heikkinen, Miss. Laina                              | female |    26 |       0 |       0 | STON/O2. 3101282 |  7.925  | S          |\n",
      "+----+---------------+------------+----------+-----------------------------------------------------+--------+-------+---------+---------+------------------+---------+------------+\n",
      "|  3 |             4 |          1 |        1 | Futrelle, Mrs. Jacques Heath (Lily May Peel)        | female |    35 |       1 |       0 | 113803           | 53.1    | S          |\n",
      "+----+---------------+------------+----------+-----------------------------------------------------+--------+-------+---------+---------+------------------+---------+------------+\n",
      "|  4 |             5 |          0 |        3 | Allen, Mr. William Henry                            | male   |    35 |       0 |       0 | 373450           |  8.05   | S          |\n",
      "+----+---------------+------------+----------+-----------------------------------------------------+--------+-------+---------+---------+------------------+---------+------------+\n",
      "\n",
      "Valores ausentes após o tratamento:\n"
     ]
    },
    {
     "data": {
      "text/plain": [
       "PassengerId      0\n",
       "Survived         0\n",
       "Pclass           0\n",
       "Name             0\n",
       "Sex              0\n",
       "Age            177\n",
       "SibSp            0\n",
       "Parch            0\n",
       "Ticket           0\n",
       "Fare             0\n",
       "Embarked         2\n",
       "dtype: int64"
      ]
     },
     "metadata": {},
     "output_type": "display_data"
    }
   ],
   "source": [
    "option = 1\n",
    "\n",
    "if option == 1:\n",
    "    train_data_processed = train_data.drop(columns=['Cabin'])\n",
    "    print(\"\\nOpção 1: Coluna 'Cabin' foi removida.\")\n",
    "\n",
    "elif option == 2:\n",
    "    train_data_processed = train_data.copy()\n",
    "    train_data_processed['Cabin'] = train_data_processed['Cabin'].fillna('Unknown')\n",
    "    print(\"\\nOpção 2: Valores ausentes preenchidos com 'Unknown'.\")\n",
    "\n",
    "elif option == 3:\n",
    "    train_data_processed = train_data.copy()\n",
    "    train_data_processed.drop(columns=['Cabin'], inplace=True)\n",
    "    train_data_processed['Has_Cabin'] = train_data['Cabin'].notnull().astype(int)\n",
    "    print(\"\\nOpção 3: Coluna 'Has_Cabin' criada para indicar presença de cabine.\")\n",
    "\n",
    "elif option == 4:\n",
    "    train_data_processed = train_data.dropna(subset=['Cabin'])\n",
    "    print(f\"\\nOpção 4: Linhas com valores ausentes removidas. Restam {len(train_data_processed)} linhas.\")\n",
    "    \n",
    "else:\n",
    "    print(\"Opção inválida. Escolha entre 1, 2, 3 ou 4.\")\n",
    "    train_data_processed = None\n",
    "\n",
    "print(tabulate(train_data_processed.head(), headers='keys', showindex=True, tablefmt='grid'))\n",
    "\n",
    "print(\"\\nValores ausentes após o tratamento:\")\n",
    "display(train_data_processed.isnull().sum())"
   ]
  },
  {
   "cell_type": "markdown",
   "metadata": {},
   "source": [
    "### Coluna Age"
   ]
  },
  {
   "cell_type": "code",
   "execution_count": 755,
   "metadata": {},
   "outputs": [
    {
     "name": "stdout",
     "output_type": "stream",
     "text": [
      "\n",
      "Opção 3: Valores ausentes preenchidos com a média (29.70).\n",
      "+----+---------------+------------+----------+-----------------------------------------------------+--------+-------+---------+---------+------------------+---------+------------+\n",
      "|    |   PassengerId |   Survived |   Pclass | Name                                                | Sex    |   Age |   SibSp |   Parch | Ticket           |    Fare | Embarked   |\n",
      "+====+===============+============+==========+=====================================================+========+=======+=========+=========+==================+=========+============+\n",
      "|  0 |             1 |          0 |        3 | Braund, Mr. Owen Harris                             | male   |    22 |       1 |       0 | A/5 21171        |  7.25   | S          |\n",
      "+----+---------------+------------+----------+-----------------------------------------------------+--------+-------+---------+---------+------------------+---------+------------+\n",
      "|  1 |             2 |          1 |        1 | Cumings, Mrs. John Bradley (Florence Briggs Thayer) | female |    38 |       1 |       0 | PC 17599         | 71.2833 | C          |\n",
      "+----+---------------+------------+----------+-----------------------------------------------------+--------+-------+---------+---------+------------------+---------+------------+\n",
      "|  2 |             3 |          1 |        3 | Heikkinen, Miss. Laina                              | female |    26 |       0 |       0 | STON/O2. 3101282 |  7.925  | S          |\n",
      "+----+---------------+------------+----------+-----------------------------------------------------+--------+-------+---------+---------+------------------+---------+------------+\n",
      "|  3 |             4 |          1 |        1 | Futrelle, Mrs. Jacques Heath (Lily May Peel)        | female |    35 |       1 |       0 | 113803           | 53.1    | S          |\n",
      "+----+---------------+------------+----------+-----------------------------------------------------+--------+-------+---------+---------+------------------+---------+------------+\n",
      "|  4 |             5 |          0 |        3 | Allen, Mr. William Henry                            | male   |    35 |       0 |       0 | 373450           |  8.05   | S          |\n",
      "+----+---------------+------------+----------+-----------------------------------------------------+--------+-------+---------+---------+------------------+---------+------------+\n",
      "\n",
      "Valores ausentes após o tratamento:\n"
     ]
    },
    {
     "data": {
      "text/plain": [
       "PassengerId    0\n",
       "Survived       0\n",
       "Pclass         0\n",
       "Name           0\n",
       "Sex            0\n",
       "Age            0\n",
       "SibSp          0\n",
       "Parch          0\n",
       "Ticket         0\n",
       "Fare           0\n",
       "Embarked       2\n",
       "dtype: int64"
      ]
     },
     "metadata": {},
     "output_type": "display_data"
    }
   ],
   "source": [
    "option_age = 3\n",
    "\n",
    "mean_age = None\n",
    "\n",
    "if option_age == 1:\n",
    "    data_age_processed = train_data_processed.drop(columns=['Age'])\n",
    "    print(\"\\nOpção 1: Coluna 'Age' foi removida.\")\n",
    "\n",
    "elif option_age == 2:\n",
    "    data_age_processed = train_data_processed.copy()\n",
    "    median_age = train_data_processed['Age'].median()\n",
    "    data_age_processed['Age'] = data_age_processed['Age'].fillna(median_age)\n",
    "    print(f\"\\nOpção 2: Valores ausentes preenchidos com a mediana ({median_age}).\")\n",
    "\n",
    "elif option_age == 3:\n",
    "    data_age_processed = train_data_processed.copy()\n",
    "    mean_age = train_data_processed['Age'].mean()\n",
    "    data_age_processed['Age'] = data_age_processed['Age'].fillna(mean_age)\n",
    "    print(f\"\\nOpção 3: Valores ausentes preenchidos com a média ({mean_age:.2f}).\")\n",
    "\n",
    "elif option_age == 4:\n",
    "    data_age_processed = train_data_processed.dropna(subset=['Age'])\n",
    "    print(f\"\\nOpção 4: Linhas com valores ausentes removidas. Restam {len(data_age_processed)} linhas.\")\n",
    "\n",
    "else:\n",
    "    print(\"Opção inválida. Escolha entre 1, 2, 3 ou 4.\")\n",
    "    data_age_processed = None\n",
    "\n",
    "print(tabulate(data_age_processed.head(), headers='keys', showindex=True, tablefmt='grid'))\n",
    "\n",
    "print(\"\\nValores ausentes após o tratamento:\")\n",
    "display(data_age_processed.isnull().sum())"
   ]
  },
  {
   "cell_type": "markdown",
   "metadata": {},
   "source": [
    "### Coluna Embarked\n"
   ]
  },
  {
   "cell_type": "code",
   "execution_count": 756,
   "metadata": {},
   "outputs": [
    {
     "name": "stdout",
     "output_type": "stream",
     "text": [
      "+----+---------------+------------+----------+-----------------------------------------------------+--------+-------+---------+---------+------------------+---------+------------+\n",
      "|    |   PassengerId |   Survived |   Pclass | Name                                                | Sex    |   Age |   SibSp |   Parch | Ticket           |    Fare | Embarked   |\n",
      "+====+===============+============+==========+=====================================================+========+=======+=========+=========+==================+=========+============+\n",
      "|  0 |             1 |          0 |        3 | Braund, Mr. Owen Harris                             | male   |    22 |       1 |       0 | A/5 21171        |  7.25   | S          |\n",
      "+----+---------------+------------+----------+-----------------------------------------------------+--------+-------+---------+---------+------------------+---------+------------+\n",
      "|  1 |             2 |          1 |        1 | Cumings, Mrs. John Bradley (Florence Briggs Thayer) | female |    38 |       1 |       0 | PC 17599         | 71.2833 | C          |\n",
      "+----+---------------+------------+----------+-----------------------------------------------------+--------+-------+---------+---------+------------------+---------+------------+\n",
      "|  2 |             3 |          1 |        3 | Heikkinen, Miss. Laina                              | female |    26 |       0 |       0 | STON/O2. 3101282 |  7.925  | S          |\n",
      "+----+---------------+------------+----------+-----------------------------------------------------+--------+-------+---------+---------+------------------+---------+------------+\n",
      "|  3 |             4 |          1 |        1 | Futrelle, Mrs. Jacques Heath (Lily May Peel)        | female |    35 |       1 |       0 | 113803           | 53.1    | S          |\n",
      "+----+---------------+------------+----------+-----------------------------------------------------+--------+-------+---------+---------+------------------+---------+------------+\n",
      "|  4 |             5 |          0 |        3 | Allen, Mr. William Henry                            | male   |    35 |       0 |       0 | 373450           |  8.05   | S          |\n",
      "+----+---------------+------------+----------+-----------------------------------------------------+--------+-------+---------+---------+------------------+---------+------------+\n",
      "\n",
      "Valores ausentes após o tratamento:\n"
     ]
    },
    {
     "data": {
      "text/plain": [
       "PassengerId    0\n",
       "Survived       0\n",
       "Pclass         0\n",
       "Name           0\n",
       "Sex            0\n",
       "Age            0\n",
       "SibSp          0\n",
       "Parch          0\n",
       "Ticket         0\n",
       "Fare           0\n",
       "Embarked       0\n",
       "dtype: int64"
      ]
     },
     "metadata": {},
     "output_type": "display_data"
    }
   ],
   "source": [
    "data_embarked_processed = data_age_processed.dropna(subset=['Embarked'])\n",
    "\n",
    "processed_data = data_embarked_processed\n",
    "\n",
    "print(tabulate(processed_data.head(), headers='keys', showindex=True, tablefmt='grid'))\n",
    "\n",
    "print(\"\\nValores ausentes após o tratamento:\")\n",
    "display(processed_data.isnull().sum())"
   ]
  },
  {
   "cell_type": "markdown",
   "metadata": {},
   "source": [
    "## Para o teste\n"
   ]
  },
  {
   "cell_type": "code",
   "execution_count": 757,
   "metadata": {},
   "outputs": [
    {
     "name": "stdout",
     "output_type": "stream",
     "text": [
      "\n",
      "Valores Ausentes:\n"
     ]
    },
    {
     "data": {
      "text/plain": [
       "PassengerId      0\n",
       "Pclass           0\n",
       "Name             0\n",
       "Sex              0\n",
       "Age             86\n",
       "SibSp            0\n",
       "Parch            0\n",
       "Ticket           0\n",
       "Fare             1\n",
       "Cabin          327\n",
       "Embarked         0\n",
       "dtype: int64"
      ]
     },
     "metadata": {},
     "output_type": "display_data"
    }
   ],
   "source": [
    "print(\"\\nValores Ausentes:\")\n",
    "display(test_data.isnull().sum())"
   ]
  },
  {
   "cell_type": "markdown",
   "metadata": {},
   "source": [
    "### Coluna Age\n"
   ]
  },
  {
   "cell_type": "code",
   "execution_count": 758,
   "metadata": {},
   "outputs": [
    {
     "name": "stdout",
     "output_type": "stream",
     "text": [
      "\n",
      "Opção 3: Valores ausentes preenchidos com a média do treino (29.70).\n",
      "+----+---------------+----------+----------------------------------------------+--------+-------+---------+---------+----------+---------+---------+------------+\n",
      "|    |   PassengerId |   Pclass | Name                                         | Sex    |   Age |   SibSp |   Parch |   Ticket |    Fare |   Cabin | Embarked   |\n",
      "+====+===============+==========+==============================================+========+=======+=========+=========+==========+=========+=========+============+\n",
      "|  0 |           892 |        3 | Kelly, Mr. James                             | male   |  34.5 |       0 |       0 |   330911 |  7.8292 |     nan | Q          |\n",
      "+----+---------------+----------+----------------------------------------------+--------+-------+---------+---------+----------+---------+---------+------------+\n",
      "|  1 |           893 |        3 | Wilkes, Mrs. James (Ellen Needs)             | female |  47   |       1 |       0 |   363272 |  7      |     nan | S          |\n",
      "+----+---------------+----------+----------------------------------------------+--------+-------+---------+---------+----------+---------+---------+------------+\n",
      "|  2 |           894 |        2 | Myles, Mr. Thomas Francis                    | male   |  62   |       0 |       0 |   240276 |  9.6875 |     nan | Q          |\n",
      "+----+---------------+----------+----------------------------------------------+--------+-------+---------+---------+----------+---------+---------+------------+\n",
      "|  3 |           895 |        3 | Wirz, Mr. Albert                             | male   |  27   |       0 |       0 |   315154 |  8.6625 |     nan | S          |\n",
      "+----+---------------+----------+----------------------------------------------+--------+-------+---------+---------+----------+---------+---------+------------+\n",
      "|  4 |           896 |        3 | Hirvonen, Mrs. Alexander (Helga E Lindqvist) | female |  22   |       1 |       1 |  3101298 | 12.2875 |     nan | S          |\n",
      "+----+---------------+----------+----------------------------------------------+--------+-------+---------+---------+----------+---------+---------+------------+\n",
      "\n",
      "Valores ausentes após o tratamento:\n"
     ]
    },
    {
     "data": {
      "text/plain": [
       "PassengerId      0\n",
       "Pclass           0\n",
       "Name             0\n",
       "Sex              0\n",
       "Age              0\n",
       "SibSp            0\n",
       "Parch            0\n",
       "Ticket           0\n",
       "Fare             1\n",
       "Cabin          327\n",
       "Embarked         0\n",
       "dtype: int64"
      ]
     },
     "metadata": {},
     "output_type": "display_data"
    }
   ],
   "source": [
    "option_age_test = 3\n",
    "\n",
    "if option_age_test == 1:\n",
    "    test_data_processed = test_data.drop(columns=['Age'])\n",
    "    print(\"\\nOpção 1: Coluna 'Age' foi removida.\")\n",
    "\n",
    "elif option_age_test == 2:\n",
    "    test_data_processed = test_data.copy()\n",
    "    median_age = test_data_processed['Age'].median()\n",
    "    test_data_processed['Age'] = test_data_processed['Age'].fillna(median_age)\n",
    "    print(f\"\\nOpção 2: Valores ausentes preenchidos com a mediana ({median_age}).\")\n",
    "\n",
    "elif option_age_test == 3:\n",
    "    test_data_processed = test_data.copy()\n",
    "    test_data_processed['Age'] = test_data_processed['Age'].fillna(mean_age)\n",
    "    print(f\"\\nOpção 3: Valores ausentes preenchidos com a média do treino ({mean_age:.2f}).\")\n",
    "\n",
    "else:\n",
    "    print(\"Opção inválida. Escolha entre 1, 2 ou 3.\")\n",
    "    test_data_processed = None\n",
    "\n",
    "print(tabulate(test_data_processed.head(), headers='keys', showindex=True, tablefmt='grid'))\n",
    "\n",
    "print(\"\\nValores ausentes após o tratamento:\")\n",
    "display(test_data_processed.isnull().sum())"
   ]
  },
  {
   "cell_type": "markdown",
   "metadata": {},
   "source": [
    "### Coluna Cabin"
   ]
  },
  {
   "cell_type": "code",
   "execution_count": 759,
   "metadata": {},
   "outputs": [
    {
     "name": "stdout",
     "output_type": "stream",
     "text": [
      "\n",
      "Opção 1: Coluna 'Cabin' foi removida.\n",
      "+----+---------------+----------+----------------------------------------------+--------+-------+---------+---------+----------+---------+------------+\n",
      "|    |   PassengerId |   Pclass | Name                                         | Sex    |   Age |   SibSp |   Parch |   Ticket |    Fare | Embarked   |\n",
      "+====+===============+==========+==============================================+========+=======+=========+=========+==========+=========+============+\n",
      "|  0 |           892 |        3 | Kelly, Mr. James                             | male   |  34.5 |       0 |       0 |   330911 |  7.8292 | Q          |\n",
      "+----+---------------+----------+----------------------------------------------+--------+-------+---------+---------+----------+---------+------------+\n",
      "|  1 |           893 |        3 | Wilkes, Mrs. James (Ellen Needs)             | female |  47   |       1 |       0 |   363272 |  7      | S          |\n",
      "+----+---------------+----------+----------------------------------------------+--------+-------+---------+---------+----------+---------+------------+\n",
      "|  2 |           894 |        2 | Myles, Mr. Thomas Francis                    | male   |  62   |       0 |       0 |   240276 |  9.6875 | Q          |\n",
      "+----+---------------+----------+----------------------------------------------+--------+-------+---------+---------+----------+---------+------------+\n",
      "|  3 |           895 |        3 | Wirz, Mr. Albert                             | male   |  27   |       0 |       0 |   315154 |  8.6625 | S          |\n",
      "+----+---------------+----------+----------------------------------------------+--------+-------+---------+---------+----------+---------+------------+\n",
      "|  4 |           896 |        3 | Hirvonen, Mrs. Alexander (Helga E Lindqvist) | female |  22   |       1 |       1 |  3101298 | 12.2875 | S          |\n",
      "+----+---------------+----------+----------------------------------------------+--------+-------+---------+---------+----------+---------+------------+\n",
      "\n",
      "Valores ausentes após o tratamento:\n"
     ]
    },
    {
     "data": {
      "text/plain": [
       "PassengerId    0\n",
       "Pclass         0\n",
       "Name           0\n",
       "Sex            0\n",
       "Age            0\n",
       "SibSp          0\n",
       "Parch          0\n",
       "Ticket         0\n",
       "Fare           1\n",
       "Embarked       0\n",
       "dtype: int64"
      ]
     },
     "metadata": {},
     "output_type": "display_data"
    }
   ],
   "source": [
    "option_cabin_test = 1\n",
    "\n",
    "if option_cabin_test == 1:\n",
    "    test_data_processed = test_data_processed.drop(columns=['Cabin'])\n",
    "    print(\"\\nOpção 1: Coluna 'Cabin' foi removida.\")\n",
    "\n",
    "elif option_cabin_test == 2:\n",
    "    test_data_processed = test_data_processed.copy()\n",
    "    test_data_processed.drop(columns=['Cabin'], inplace=True)\n",
    "    test_data_processed['Has_Cabin'] = test_data['Cabin'].notnull().astype(int)\n",
    "    print(\"\\nOpção 3: Coluna 'Has_Cabin' criada para indicar presença de cabine.\")\n",
    "    \n",
    "else:\n",
    "    print(\"Opção inválida. Escolha entre 1 e 2\")\n",
    "    test_data_processed = None\n",
    "\n",
    "print(tabulate(test_data_processed.head(), headers='keys', showindex=True, tablefmt='grid'))\n",
    "\n",
    "print(\"\\nValores ausentes após o tratamento:\")\n",
    "display(test_data_processed.isnull().sum())"
   ]
  },
  {
   "cell_type": "markdown",
   "metadata": {},
   "source": [
    " ### Tratamento da coluna Fare: Preenchimento do valor ausente com a média devido ao conjunto de teste"
   ]
  },
  {
   "cell_type": "code",
   "execution_count": 760,
   "metadata": {},
   "outputs": [
    {
     "name": "stdout",
     "output_type": "stream",
     "text": [
      "\n",
      "Valores ausentes em 'Fare' preenchidos com a média (35.63)\n",
      "+----+---------------+----------+----------------------------------------------+--------+-------+---------+---------+----------+---------+------------+\n",
      "|    |   PassengerId |   Pclass | Name                                         | Sex    |   Age |   SibSp |   Parch |   Ticket |    Fare | Embarked   |\n",
      "+====+===============+==========+==============================================+========+=======+=========+=========+==========+=========+============+\n",
      "|  0 |           892 |        3 | Kelly, Mr. James                             | male   |  34.5 |       0 |       0 |   330911 |  7.8292 | Q          |\n",
      "+----+---------------+----------+----------------------------------------------+--------+-------+---------+---------+----------+---------+------------+\n",
      "|  1 |           893 |        3 | Wilkes, Mrs. James (Ellen Needs)             | female |  47   |       1 |       0 |   363272 |  7      | S          |\n",
      "+----+---------------+----------+----------------------------------------------+--------+-------+---------+---------+----------+---------+------------+\n",
      "|  2 |           894 |        2 | Myles, Mr. Thomas Francis                    | male   |  62   |       0 |       0 |   240276 |  9.6875 | Q          |\n",
      "+----+---------------+----------+----------------------------------------------+--------+-------+---------+---------+----------+---------+------------+\n",
      "|  3 |           895 |        3 | Wirz, Mr. Albert                             | male   |  27   |       0 |       0 |   315154 |  8.6625 | S          |\n",
      "+----+---------------+----------+----------------------------------------------+--------+-------+---------+---------+----------+---------+------------+\n",
      "|  4 |           896 |        3 | Hirvonen, Mrs. Alexander (Helga E Lindqvist) | female |  22   |       1 |       1 |  3101298 | 12.2875 | S          |\n",
      "+----+---------------+----------+----------------------------------------------+--------+-------+---------+---------+----------+---------+------------+\n",
      "\n",
      "Valores ausentes após o tratamento:\n"
     ]
    },
    {
     "data": {
      "text/plain": [
       "PassengerId    0\n",
       "Pclass         0\n",
       "Name           0\n",
       "Sex            0\n",
       "Age            0\n",
       "SibSp          0\n",
       "Parch          0\n",
       "Ticket         0\n",
       "Fare           0\n",
       "Embarked       0\n",
       "dtype: int64"
      ]
     },
     "metadata": {},
     "output_type": "display_data"
    }
   ],
   "source": [
    "media_fare = test_data_processed['Fare'].mean()\n",
    "test_data_processed['Fare'] = test_data_processed['Fare'].fillna(media_fare)\n",
    "print(f\"\\nValores ausentes em 'Fare' preenchidos com a média ({media_fare:.2f})\")\n",
    "\n",
    "print(tabulate(test_data_processed.head(), headers='keys', showindex=True, tablefmt='grid'))\n",
    "\n",
    "print(\"\\nValores ausentes após o tratamento:\")\n",
    "display(test_data_processed.isnull().sum())"
   ]
  },
  {
   "cell_type": "markdown",
   "metadata": {},
   "source": [
    "# Deep Learning"
   ]
  },
  {
   "cell_type": "markdown",
   "metadata": {},
   "source": [
    "## Antes de tudo, vamos realizar o encoding das colunas categóricas e a normalização dos dados\n"
   ]
  },
  {
   "cell_type": "code",
   "execution_count": 761,
   "metadata": {},
   "outputs": [],
   "source": [
    "le_sex = LabelEncoder()\n",
    "le_embarked = LabelEncoder()\n",
    "scaler = StandardScaler()\n",
    "\n",
    "le_sex.fit(processed_data['Sex'])\n",
    "le_embarked.fit(processed_data['Embarked'])\n",
    "\n",
    "numeric_columns = ['Age', 'Fare', 'SibSp', 'Parch']\n",
    "scaler.fit(processed_data[numeric_columns])\n",
    "\n",
    "def prepare_data_for_nn(data, is_training=True):\n",
    "\n",
    "    processed_data = data.copy()\n",
    "    \n",
    "    columns_to_drop = ['PassengerId', 'Name', 'Ticket']\n",
    "    processed_data = processed_data.drop(columns=columns_to_drop, errors='ignore')\n",
    "    \n",
    "    processed_data['Sex'] = le_sex.transform(processed_data['Sex']).astype('float32')\n",
    "    processed_data['Embarked'] = le_embarked.transform(processed_data['Embarked']).astype('float32')\n",
    "    \n",
    "    numeric_columns = ['Age', 'Fare', 'SibSp', 'Parch']\n",
    "    processed_data[numeric_columns] = scaler.transform(processed_data[numeric_columns]).astype('float32')\n",
    "    \n",
    "    if 'Pclass' in processed_data.columns:\n",
    "        processed_data['Pclass'] = processed_data['Pclass'].astype('float32')\n",
    "    if 'Has_Cabin' in processed_data.columns:\n",
    "        processed_data['Has_Cabin'] = processed_data['Has_Cabin'].astype('float32')\n",
    "    if 'Survived' in processed_data.columns:\n",
    "        processed_data['Survived'] = processed_data['Survived'].astype('float32')\n",
    "    \n",
    "    output_file = '../data/train_processed.csv' if is_training else '../data/test_processed.csv'\n",
    "    processed_data.to_csv(output_file, index=False)\n",
    "    print(f\"\\nDados processados salvos em: {output_file}\")\n",
    "    print(\"\\nPrimeiras linhas dos dados processados:\")\n",
    "    print(tabulate(processed_data.head(), headers='keys', tablefmt='grid'))"
   ]
  },
  {
   "cell_type": "code",
   "execution_count": 762,
   "metadata": {},
   "outputs": [
    {
     "name": "stdout",
     "output_type": "stream",
     "text": [
      "\n",
      "Dados processados salvos em: ../data/train_processed.csv\n",
      "\n",
      "Primeiras linhas dos dados processados:\n",
      "+----+------------+----------+-------+-----------+-----------+-----------+-----------+------------+\n",
      "|    |   Survived |   Pclass |   Sex |       Age |     SibSp |     Parch |      Fare |   Embarked |\n",
      "+====+============+==========+=======+===========+===========+===========+===========+============+\n",
      "|  0 |          0 |        3 |     1 | -0.590495 |  0.43135  | -0.474326 | -0.50024  |          2 |\n",
      "+----+------------+----------+-------+-----------+-----------+-----------+-----------+------------+\n",
      "|  1 |          1 |        1 |     0 |  0.643971 |  0.43135  | -0.474326 |  0.788947 |          0 |\n",
      "+----+------------+----------+-------+-----------+-----------+-----------+-----------+------------+\n",
      "|  2 |          1 |        3 |     0 | -0.281878 | -0.475199 | -0.474326 | -0.48665  |          2 |\n",
      "+----+------------+----------+-------+-----------+-----------+-----------+-----------+------------+\n",
      "|  3 |          1 |        1 |     0 |  0.412509 |  0.43135  | -0.474326 |  0.422861 |          2 |\n",
      "+----+------------+----------+-------+-----------+-----------+-----------+-----------+------------+\n",
      "|  4 |          0 |        3 |     1 |  0.412509 | -0.475199 | -0.474326 | -0.484133 |          2 |\n",
      "+----+------------+----------+-------+-----------+-----------+-----------+-----------+------------+\n"
     ]
    }
   ],
   "source": [
    "prepare_data_for_nn(processed_data, is_training=True)"
   ]
  },
  {
   "cell_type": "code",
   "execution_count": 763,
   "metadata": {},
   "outputs": [
    {
     "name": "stdout",
     "output_type": "stream",
     "text": [
      "\n",
      "Dados processados salvos em: ../data/test_processed.csv\n",
      "\n",
      "Primeiras linhas dos dados processados:\n",
      "+----+----------+-------+-----------+-----------+-----------+-----------+------------+\n",
      "|    |   Pclass |   Sex |       Age |     SibSp |     Parch |      Fare |   Embarked |\n",
      "+====+==========+=======+===========+===========+===========+===========+============+\n",
      "|  0 |        3 |     1 |  0.373932 | -0.475199 | -0.474326 | -0.488579 |          1 |\n",
      "+----+----------+-------+-----------+-----------+-----------+-----------+------------+\n",
      "|  1 |        3 |     0 |  1.33836  |  0.43135  | -0.474326 | -0.505273 |          2 |\n",
      "+----+----------+-------+-----------+-----------+-----------+-----------+------------+\n",
      "|  2 |        2 |     1 |  2.49567  | -0.475199 | -0.474326 | -0.451165 |          1 |\n",
      "+----+----------+-------+-----------+-----------+-----------+-----------+------------+\n",
      "|  3 |        3 |     1 | -0.204724 | -0.475199 | -0.474326 | -0.471802 |          2 |\n",
      "+----+----------+-------+-----------+-----------+-----------+-----------+------------+\n",
      "|  4 |        3 |     0 | -0.590495 |  0.43135  |  0.765897 | -0.398819 |          2 |\n",
      "+----+----------+-------+-----------+-----------+-----------+-----------+------------+\n"
     ]
    }
   ],
   "source": [
    "prepare_data_for_nn(test_data_processed, is_training=False)"
   ]
  },
  {
   "cell_type": "markdown",
   "metadata": {},
   "source": [
    "## Agora, criaremos a classe de Dataset"
   ]
  },
  {
   "cell_type": "code",
   "execution_count": 764,
   "metadata": {},
   "outputs": [],
   "source": [
    "class TitanicDataset:\n",
    "    def __init__(self, arquivo_csv, is_train=True):\n",
    "\n",
    "        self.dados = pd.read_csv(arquivo_csv)\n",
    "        self.is_train = is_train\n",
    "        \n",
    "        if is_train:\n",
    "            self.X = torch.tensor(self.dados.drop('Survived', axis=1).values, dtype=torch.float32)\n",
    "            self.y = torch.tensor(self.dados['Survived'].values, dtype=torch.float32).reshape(-1, 1)\n",
    "        else:\n",
    "            self.X = torch.tensor(self.dados.values, dtype=torch.float32)\n",
    "            self.y = None\n",
    "    \n",
    "    def __len__(self):\n",
    "        return len(self.dados)\n",
    "    \n",
    "    def __getitem__(self, idx):\n",
    "        if self.is_train:\n",
    "            return self.X[idx], self.y[idx]\n",
    "        return self.X[idx]"
   ]
  },
  {
   "cell_type": "code",
   "execution_count": 765,
   "metadata": {},
   "outputs": [
    {
     "name": "stdout",
     "output_type": "stream",
     "text": [
      "Distribuição das classes:\n",
      "\n",
      "Antes do balanceamento (treino):\n",
      "0.0    0.61744\n",
      "1.0    0.38256\n",
      "Name: proportion, dtype: float64\n",
      "\n",
      "Depois do balanceamento (treino):\n",
      "1.0    0.5\n",
      "0.0    0.5\n",
      "Name: proportion, dtype: float64\n",
      "\n",
      "Validação:\n",
      "0.0    0.617978\n",
      "1.0    0.382022\n",
      "Name: proportion, dtype: float64\n",
      "\n",
      "Tamanho do treino: 878\n",
      "Tamanho da validação: 178\n",
      "Tamanho do teste: 418\n"
     ]
    }
   ],
   "source": [
    "from sklearn.model_selection import StratifiedShuffleSplit\n",
    "from imblearn.over_sampling import SMOTE\n",
    "\n",
    "dataset_train = TitanicDataset('../data/train_processed.csv', is_train=True)\n",
    "dataset_test = TitanicDataset('../data/test_processed.csv', is_train=False)\n",
    "\n",
    "X = dataset_train.X\n",
    "y = dataset_train.y.squeeze()\n",
    "\n",
    "sss = StratifiedShuffleSplit(n_splits=1, test_size=0.2, random_state=42)\n",
    "train_idx, val_idx = next(sss.split(X, y))\n",
    "\n",
    "X_train, X_val = X[train_idx], X[val_idx]\n",
    "y_train, y_val = y[train_idx], y[val_idx]\n",
    "\n",
    "smote = SMOTE(random_state=42)\n",
    "X_train_balanced, y_train_balanced = smote.fit_resample(X_train, y_train)\n",
    "\n",
    "train_dataset = TensorDataset(torch.FloatTensor(X_train_balanced), \n",
    "                            torch.FloatTensor(y_train_balanced).reshape(-1, 1))\n",
    "val_dataset = TensorDataset(torch.FloatTensor(X_val), \n",
    "                          torch.FloatTensor(y_val).reshape(-1, 1))\n",
    "\n",
    "train_loader = DataLoader(train_dataset, batch_size=args['batch_size'], shuffle=True)\n",
    "val_loader = DataLoader(val_dataset, batch_size=args['batch_size'], shuffle=False)\n",
    "test_loader = DataLoader(dataset_test, batch_size=args['batch_size'], shuffle=False)\n",
    "\n",
    "print(\"Distribuição das classes:\")\n",
    "print(\"\\nAntes do balanceamento (treino):\")\n",
    "print(pd.Series(y_train.numpy()).value_counts(normalize=True))\n",
    "print(\"\\nDepois do balanceamento (treino):\")\n",
    "print(pd.Series(y_train_balanced).value_counts(normalize=True))\n",
    "print(\"\\nValidação:\")\n",
    "print(pd.Series(y_val.numpy()).value_counts(normalize=True))\n",
    "\n",
    "print(f'\\nTamanho do treino: {len(train_dataset)}')\n",
    "print(f'Tamanho da validação: {len(val_dataset)}')\n",
    "print(f'Tamanho do teste: {len(dataset_test)}')"
   ]
  },
  {
   "cell_type": "code",
   "execution_count": 766,
   "metadata": {},
   "outputs": [
    {
     "name": "stdout",
     "output_type": "stream",
     "text": [
      "## Dimensionalidade do batch ##\n",
      "Dados: torch.Size([16, 7]), Rótulos: torch.Size([16, 1])\n"
     ]
    }
   ],
   "source": [
    "for batch in train_loader:\n",
    "    dados, rotulos = batch\n",
    "    print('## Dimensionalidade do batch ##')\n",
    "    print(f'Dados: {dados.size()}, Rótulos: {rotulos.size()}')\n",
    "    break"
   ]
  },
  {
   "cell_type": "markdown",
   "metadata": {},
   "source": [
    "## Definindo a arquitetura da rede\n"
   ]
  },
  {
   "cell_type": "code",
   "execution_count": 767,
   "metadata": {},
   "outputs": [],
   "source": [
    "class TitanicModel(nn.Module):\n",
    "    def __init__(self):\n",
    "        super(TitanicModel, self).__init__()\n",
    "        \n",
    "        self.network = nn.Sequential(\n",
    "            nn.Linear(7, 256),\n",
    "            nn.LeakyReLU(negative_slope=0.02),\n",
    "            nn.BatchNorm1d(256),\n",
    "            nn.Dropout(0.5), \n",
    "            \n",
    "            nn.Linear(256, 128),\n",
    "            nn.LeakyReLU(negative_slope=0.02),\n",
    "            nn.BatchNorm1d(128),\n",
    "            nn.Dropout(0.5),\n",
    "            \n",
    "            nn.Linear(128, 64),\n",
    "            nn.LeakyReLU(negative_slope=0.02),\n",
    "            nn.BatchNorm1d(64),\n",
    "            nn.Dropout(0.5),\n",
    "            \n",
    "            nn.Linear(64, 1),\n",
    "            nn.Sigmoid()\n",
    "        )\n",
    "        \n",
    "        for m in self.modules():\n",
    "            if isinstance(m, nn.Linear):\n",
    "                nn.init.kaiming_normal_(m.weight, mode='fan_in', nonlinearity='relu')\n",
    "                nn.init.constant_(m.bias, 0)\n",
    "\n",
    "    def forward(self, x):\n",
    "        return self.network(x)"
   ]
  },
  {
   "cell_type": "markdown",
   "metadata": {},
   "source": [
    "## Criando a rede"
   ]
  },
  {
   "cell_type": "code",
   "execution_count": 768,
   "metadata": {},
   "outputs": [],
   "source": [
    "net = TitanicModel().to(args['device'])"
   ]
  },
  {
   "cell_type": "markdown",
   "metadata": {},
   "source": [
    "## Definindo loss e otimizador"
   ]
  },
  {
   "cell_type": "code",
   "execution_count": 769,
   "metadata": {},
   "outputs": [
    {
     "name": "stderr",
     "output_type": "stream",
     "text": [
      "c:\\Users\\breno\\OneDrive\\Documentos\\GitHub\\facprj-titanic\\venv\\Lib\\site-packages\\torch\\optim\\lr_scheduler.py:62: UserWarning: The verbose parameter is deprecated. Please use get_last_lr() to access the learning rate.\n",
      "  warnings.warn(\n"
     ]
    }
   ],
   "source": [
    "criterion = nn.BCELoss(reduction='mean').to(args['device'])  \n",
    "\n",
    "def mixup_data(x, y, alpha=0.2):\n",
    "    lam = np.random.beta(alpha, alpha)\n",
    "    batch_size = x.size()[0]\n",
    "    index = torch.randperm(batch_size).to(args['device'])\n",
    "    mixed_x = lam * x + (1 - lam) * x[index]\n",
    "    y_a, y_b = y, y[index]\n",
    "    return mixed_x, y_a, y_b, lam\n",
    "\n",
    "optimizer = optim.Adam(net.parameters(), lr=args['lr'], weight_decay=args['weight_decay'])\n",
    "\n",
    "scheduler = optim.lr_scheduler.ReduceLROnPlateau(\n",
    "    optimizer,\n",
    "    mode='min',\n",
    "    factor=0.5,\n",
    "    patience=10,\n",
    "    verbose=True,\n",
    "    min_lr=1e-6\n",
    ")"
   ]
  },
  {
   "cell_type": "markdown",
   "metadata": {},
   "source": [
    "## Fluxo de Treinamento e validação"
   ]
  },
  {
   "cell_type": "code",
   "execution_count": 770,
   "metadata": {},
   "outputs": [],
   "source": [
    "import time\n",
    "import torch\n",
    "import torch.nn as nn\n",
    "import torch.optim as optim\n",
    "import pandas as pd\n",
    "import matplotlib.pyplot as plt\n",
    "from sklearn.metrics import accuracy_score\n",
    "from collections import deque\n",
    "\n",
    "def treinar_epoca(model, train_loader, criterion, optimizer, device):\n",
    "    model.train()\n",
    "    total_loss = 0\n",
    "    inicio = time.time()\n",
    "    \n",
    "    for batch in train_loader:\n",
    "        dados, rotulos = batch\n",
    "        dados, rotulos = dados.to(device), rotulos.to(device).float()\n",
    "        \n",
    "        mixed_dados, rotulos_a, rotulos_b, lam = mixup_data(dados, rotulos)\n",
    "        \n",
    "        optimizer.zero_grad()\n",
    "\n",
    "        outputs = model(mixed_dados)\n",
    "        outputs = outputs.view(-1, 1)\n",
    "        \n",
    "        loss = lam * criterion(outputs, rotulos_a) + (1 - lam) * criterion(outputs, rotulos_b)\n",
    "        \n",
    "        loss.backward()\n",
    "        optimizer.step()\n",
    "        \n",
    "        total_loss += loss.item()\n",
    "    \n",
    "    tempo_epoca = time.time() - inicio\n",
    "    loss_media = total_loss / len(train_loader)\n",
    "    \n",
    "    return loss_media, tempo_epoca\n",
    "\n",
    "def validar_epoca(model, val_loader, criterion, device):\n",
    "    model.eval()\n",
    "    total_loss = 0\n",
    "    predicoes = []\n",
    "    rotulos_reais = []\n",
    "    inicio = time.time()\n",
    "    \n",
    "    with torch.no_grad():\n",
    "        for dados, labels in val_loader:\n",
    "            dados, labels = dados.to(device), labels.to(device)\n",
    "            \n",
    "            outputs = model(dados)\n",
    "            outputs = outputs.view(-1, 1)\n",
    "            labels = labels.view(-1, 1)\n",
    "\n",
    "            loss = criterion(outputs, labels)\n",
    "            total_loss += loss.item()\n",
    "            \n",
    "            predicoes.extend((outputs.squeeze() > 0.5).cpu().numpy())\n",
    "            rotulos_reais.extend(labels.squeeze().cpu().numpy())\n",
    "    \n",
    "    tempo_epoca = time.time() - inicio\n",
    "    loss_media = total_loss / len(val_loader)\n",
    "    accuracy = accuracy_score(rotulos_reais, predicoes)\n",
    "    \n",
    "    return loss_media, accuracy, tempo_epoca\n",
    "\n",
    "def treinar_modelo(model, train_loader, val_loader, criterion, optimizer, num_epochs, device, patience=50):\n",
    "    historico = {\n",
    "        'train_loss': [],\n",
    "        'val_loss': [],\n",
    "        'val_accuracy': [],\n",
    "        'tempo_treino': [],\n",
    "        'tempo_val': []\n",
    "    }\n",
    "    \n",
    "    melhor_loss = float('inf')\n",
    "    contador_patience = 0\n",
    "    tolerancia = 0.01  \n",
    "    smoothing_window = 5  \n",
    "    val_loss_history = deque(maxlen=smoothing_window)\n",
    "    \n",
    "    scheduler = torch.optim.lr_scheduler.ReduceLROnPlateau(optimizer, \n",
    "                                                           mode='min', \n",
    "                                                           factor=0.5, \n",
    "                                                           patience=10, \n",
    "                                                           verbose=True)\n",
    "\n",
    "    for epoca in range(num_epochs):\n",
    "        train_loss, tempo_treino = treinar_epoca(model, train_loader, criterion, optimizer, device)\n",
    "        \n",
    "        val_loss, accuracy, tempo_val = validar_epoca(model, val_loader, criterion, device)\n",
    "        val_loss_history.append(val_loss)\n",
    "        smoothed_val_loss = sum(val_loss_history) / len(val_loss_history)\n",
    "        \n",
    "        historico['train_loss'].append(train_loss)\n",
    "        historico['val_loss'].append(val_loss)\n",
    "        historico['val_accuracy'].append(accuracy)\n",
    "        historico['tempo_treino'].append(tempo_treino)\n",
    "        historico['tempo_val'].append(tempo_val)\n",
    "        \n",
    "        if smoothed_val_loss < melhor_loss * (1 - tolerancia):\n",
    "            melhor_loss = smoothed_val_loss\n",
    "            contador_patience = 0\n",
    "        else:\n",
    "            contador_patience += 1\n",
    "        \n",
    "        if contador_patience >= patience:\n",
    "            print(f'Early stopping na época {epoca+1}')\n",
    "            break\n",
    "        \n",
    "        scheduler.step(val_loss)\n",
    "        \n",
    "        if (epoca + 1) % 10 == 0:\n",
    "            print(f'Época [{epoca+1}/{num_epochs}]')\n",
    "            print(f'Loss Treino: {train_loss:.4f}')\n",
    "            print(f'Loss Validação: {val_loss:.4f}')\n",
    "            print(f'Acurácia Validação: {accuracy:.4f}')\n",
    "            print(f'Learning Rate Atual: {optimizer.param_groups[0][\"lr\"]:.6f}')\n",
    "            print('-' * 50)\n",
    "    \n",
    "    return historico"
   ]
  },
  {
   "cell_type": "code",
   "execution_count": 771,
   "metadata": {},
   "outputs": [
    {
     "name": "stdout",
     "output_type": "stream",
     "text": [
      "Época [10/50]\n",
      "Loss Treino: 0.5360\n",
      "Loss Validação: 0.4823\n",
      "Acurácia Validação: 0.7584\n",
      "Learning Rate Atual: 0.001000\n",
      "--------------------------------------------------\n",
      "Época [20/50]\n",
      "Loss Treino: 0.5333\n",
      "Loss Validação: 0.4596\n",
      "Acurácia Validação: 0.8146\n",
      "Learning Rate Atual: 0.001000\n",
      "--------------------------------------------------\n",
      "Época [30/50]\n",
      "Loss Treino: 0.5215\n",
      "Loss Validação: 0.4512\n",
      "Acurácia Validação: 0.8371\n",
      "Learning Rate Atual: 0.001000\n",
      "--------------------------------------------------\n",
      "Época [40/50]\n",
      "Loss Treino: 0.5225\n",
      "Loss Validação: 0.4446\n",
      "Acurácia Validação: 0.8202\n",
      "Learning Rate Atual: 0.001000\n",
      "--------------------------------------------------\n",
      "Época [50/50]\n",
      "Loss Treino: 0.5215\n",
      "Loss Validação: 0.4385\n",
      "Acurácia Validação: 0.8202\n",
      "Learning Rate Atual: 0.000500\n",
      "--------------------------------------------------\n"
     ]
    },
    {
     "data": {
      "image/png": "[encoded data removed]",
      "text/plain": [
       "<Figure size 1400x600 with 2 Axes>"
      ]
     },
     "metadata": {},
     "output_type": "display_data"
    }
   ],
   "source": [
    "historico = treinar_modelo(net, train_loader, val_loader, criterion, optimizer, args['epoch_num'], args['device'])\n",
    "\n",
    "def plot_training_results(historico):\n",
    "    plt.figure(figsize=(14, 6))\n",
    "\n",
    "    plt.subplot(1, 2, 1)\n",
    "    plt.plot(historico['train_loss'], label='Loss de Treinamento', linestyle='-', marker='o', markersize=4)\n",
    "    plt.plot(historico['val_loss'], label='Loss de Validação', linestyle='--', marker='x', markersize=4)\n",
    "    plt.axvline(len(historico['val_loss']), color='green', linestyle='--', label='Parada Precoce')\n",
    "    plt.title('Loss de Treinamento e Validação')\n",
    "    plt.xlabel('Época')\n",
    "    plt.ylabel('Loss')\n",
    "    plt.legend()\n",
    "    plt.grid(True)\n",
    "\n",
    "    plt.subplot(1, 2, 2)\n",
    "    plt.plot(historico['val_accuracy'], label='Acurácia de Validação', linestyle='-', color='orange', marker='s', markersize=4)\n",
    "    max_accuracy = max(historico['val_accuracy'])\n",
    "    plt.axhline(max_accuracy, color='red', linestyle='--', label=f'Máx Acurácia ({max_accuracy:.2f})')\n",
    "    plt.title('Acurácia de Validação')\n",
    "    plt.xlabel('Época')\n",
    "    plt.ylabel('Acurácia')\n",
    "    plt.legend()\n",
    "    plt.grid(True)\n",
    "\n",
    "    plt.tight_layout()\n",
    "    plt.savefig('treinamento_validacao.png', dpi=300)  \n",
    "    plt.show()\n",
    "\n",
    "\n",
    "plot_training_results(historico)"
   ]
  },
  {
   "cell_type": "code",
   "execution_count": 772,
   "metadata": {},
   "outputs": [
    {
     "name": "stdout",
     "output_type": "stream",
     "text": [
      "Resultados da última época (Época 50):\n",
      "Loss de Treino: 0.5215\n",
      "Acurácia de Validação: 0.8202\n",
      "Tempo de Treino: 0.13 segundos\n",
      "Tempo de Validação: 0.01 segundos\n"
     ]
    }
   ],
   "source": [
    "print(f\"Resultados da última época (Época {args['epoch_num']}):\")\n",
    "print(f\"Loss de Treino: {historico['train_loss'][-1]:.4f}\")\n",
    "print(f\"Acurácia de Validação: {historico['val_accuracy'][-1]:.4f}\")\n",
    "print(f\"Tempo de Treino: {historico['tempo_treino'][-1]:.2f} segundos\")\n",
    "print(f\"Tempo de Validação: {historico['tempo_val'][-1]:.2f} segundos\")"
   ]
  },
  {
   "cell_type": "markdown",
   "metadata": {},
   "source": [
    "## Fazendo predições e comparando com os resultados do teste"
   ]
  },
  {
   "cell_type": "code",
   "execution_count": 773,
   "metadata": {},
   "outputs": [],
   "source": [
    "def predict(model, test_loader, device):\n",
    "    model.eval()  \n",
    "    predicoes = []\n",
    "    \n",
    "    with torch.no_grad(): \n",
    "        for dados in test_loader:\n",
    "            dados = dados.to(device)\n",
    "            outputs = model(dados)\n",
    "            preds = (outputs.squeeze() > 0.5).cpu().numpy() \n",
    "            predicoes.extend(preds)\n",
    "    \n",
    "    return np.array(predicoes)"
   ]
  },
  {
   "cell_type": "code",
   "execution_count": 774,
   "metadata": {},
   "outputs": [
    {
     "data": {
      "image/png": "[encoded data removed]",
      "text/plain": [
       "<Figure size 800x600 with 2 Axes>"
      ]
     },
     "metadata": {},
     "output_type": "display_data"
    },
    {
     "name": "stdout",
     "output_type": "stream",
     "text": [
      "\n",
      "Acurácia no conjunto de teste: 0.9522\n",
      "\n",
      "Relatório de Classificação:\n",
      "              precision    recall  f1-score   support\n",
      "\n",
      "           0       0.97      0.95      0.96       266\n",
      "           1       0.92      0.95      0.94       152\n",
      "\n",
      "    accuracy                           0.95       418\n",
      "   macro avg       0.95      0.95      0.95       418\n",
      "weighted avg       0.95      0.95      0.95       418\n",
      "\n",
      "\n",
      "Exemplos de predições diferentes do baseline:\n",
      "+-----+---------------+-------------+---------------------+\n",
      "|     |   PassengerId |   Predicted |   Gender_Submission |\n",
      "+=====+===============+=============+=====================+\n",
      "|  23 |           915 |           1 |                   0 |\n",
      "+-----+---------------+-------------+---------------------+\n",
      "|  32 |           924 |           0 |                   1 |\n",
      "+-----+---------------+-------------+---------------------+\n",
      "|  33 |           925 |           0 |                   1 |\n",
      "+-----+---------------+-------------+---------------------+\n",
      "|  64 |           956 |           1 |                   0 |\n",
      "+-----+---------------+-------------+---------------------+\n",
      "|  80 |           972 |           1 |                   0 |\n",
      "+-----+---------------+-------------+---------------------+\n",
      "|  81 |           973 |           1 |                   0 |\n",
      "+-----+---------------+-------------+---------------------+\n",
      "|  89 |           981 |           1 |                   0 |\n",
      "+-----+---------------+-------------+---------------------+\n",
      "| 132 |          1024 |           0 |                   1 |\n",
      "+-----+---------------+-------------+---------------------+\n",
      "| 140 |          1032 |           0 |                   1 |\n",
      "+-----+---------------+-------------+---------------------+\n",
      "| 161 |          1053 |           1 |                   0 |\n",
      "+-----+---------------+-------------+---------------------+\n"
     ]
    }
   ],
   "source": [
    "from sklearn.metrics import accuracy_score, classification_report, confusion_matrix\n",
    "import seaborn as sns\n",
    "\n",
    "gender_submission = pd.read_csv('../data/gender_submission.csv')\n",
    "\n",
    "predicoes = predict(net, test_loader, args['device'])\n",
    "\n",
    "resultados = pd.DataFrame({\n",
    "    'PassengerId': test_data['PassengerId'],\n",
    "    'Survived': predicoes.astype(int)\n",
    "})\n",
    "\n",
    "comparacao = pd.DataFrame({\n",
    "    'PassengerId': test_data['PassengerId'],\n",
    "    'Predicted': predicoes.astype(int),\n",
    "    'Gender_Submission': gender_submission['Survived']\n",
    "})\n",
    "\n",
    "accuracy = accuracy_score(gender_submission['Survived'], predicoes)\n",
    "conf_matrix = confusion_matrix(gender_submission['Survived'], predicoes)\n",
    "\n",
    "plt.figure(figsize=(8, 6))\n",
    "sns.heatmap(conf_matrix, annot=True, fmt='d', cmap='Blues',\n",
    "            xticklabels=['Não Sobreviveu', 'Sobreviveu'],\n",
    "            yticklabels=['Não Sobreviveu', 'Sobreviveu'])\n",
    "plt.title('Matriz de Confusão')\n",
    "plt.xlabel('Predito')\n",
    "plt.ylabel('Real')\n",
    "plt.show()\n",
    "\n",
    "print(f\"\\nAcurácia no conjunto de teste: {accuracy:.4f}\")\n",
    "print(\"\\nRelatório de Classificação:\")\n",
    "print(classification_report(gender_submission['Survived'], predicoes))\n",
    "\n",
    "discordancias = comparacao[comparacao['Predicted'] != comparacao['Gender_Submission']]\n",
    "print(\"\\nExemplos de predições diferentes do baseline:\")\n",
    "print(tabulate(discordancias.head(10), headers='keys', tablefmt='grid'))\n",
    "\n",
    "resultados.to_csv('predicoes_deep_learning.csv', index=False)"
   ]
  }
 ],
 "metadata": {
  "kernelspec": {
   "display_name": "venv",
   "language": "python",
   "name": "python3"
  },
  "language_info": {
   "codemirror_mode": {
    "name": "ipython",
    "version": 3
   },
   "file_extension": ".py",
   "mimetype": "text/x-python",
   "name": "python",
   "nbconvert_exporter": "python",
   "pygments_lexer": "ipython3",
   "version": "3.12.6"
  }
 },
 "nbformat": 4,
 "nbformat_minor": 2
}
